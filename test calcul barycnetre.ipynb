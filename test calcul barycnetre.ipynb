{
 "cells": [
  {
   "cell_type": "code",
   "execution_count": 2,
   "metadata": {},
   "outputs": [
    {
     "name": "stdout",
     "output_type": "stream",
     "text": [
      "2.427050983124842 0.9270509831248422\n"
     ]
    }
   ],
   "source": [
    "points = [[0,0],[6,0],[0,3]]\n",
    "\n",
    "\n",
    "\n",
    "sx = sy = sL = 0\n",
    "for i in range(len(points)):   # counts from 0 to len(points)-1\n",
    "    x0, y0 = points[i - 1]     # in Python points[-1] is last element of points\n",
    "    x1, y1 = points[i]\n",
    "    L = ((x1 - x0)**2 + (y1 - y0)**2) ** 0.5\n",
    "    sx += (x0 + x1)/2 * L\n",
    "    sy += (y0 + y1)/2 * L\n",
    "    sL += L\n",
    "xc = sx / sL\n",
    "yc = sy / sL\n",
    "\n",
    "print(xc,yc)"
   ]
  },
  {
   "cell_type": "code",
   "execution_count": 2,
   "metadata": {},
   "outputs": [],
   "source": []
  },
  {
   "cell_type": "code",
   "execution_count": null,
   "metadata": {},
   "outputs": [],
   "source": []
  }
 ],
 "metadata": {
  "kernelspec": {
   "display_name": "Python 3",
   "language": "python",
   "name": "python3"
  },
  "language_info": {
   "codemirror_mode": {
    "name": "ipython",
    "version": 3
   },
   "file_extension": ".py",
   "mimetype": "text/x-python",
   "name": "python",
   "nbconvert_exporter": "python",
   "pygments_lexer": "ipython3",
   "version": "3.7.7"
  }
 },
 "nbformat": 4,
 "nbformat_minor": 4
}
